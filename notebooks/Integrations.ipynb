{
 "cells": [
  {
   "cell_type": "markdown",
   "id": "1eaec638-3318-4551-8a4c-05b2291c2d22",
   "metadata": {},
   "source": [
    "# Kangas DataGrid - Integrations\n",
    "\n",
    "Before using Kangas DataGrid, you'll need to install it. We can do that in a notebook\n",
    "with the `%pip install kangas` command:"
   ]
  },
  {
   "cell_type": "code",
   "execution_count": null,
   "id": "7229cc34-aed4-48d0-8c61-d080b1866b0a",
   "metadata": {},
   "outputs": [],
   "source": [
    "%pip install kangas --quiet"
   ]
  },
  {
   "cell_type": "markdown",
   "id": "825e0713-8399-439f-a7e1-3b8d06adc455",
   "metadata": {},
   "source": [
    "Once installed, we can import it. We'll just import the top-level `kangas` module as `kg` and use that throughout this demo."
   ]
  },
  {
   "cell_type": "code",
   "execution_count": 2,
   "id": "edd11c53-6bc2-4d71-a794-056d56e786f6",
   "metadata": {},
   "outputs": [
    {
     "data": {
      "text/plain": [
       "'1.1.26'"
      ]
     },
     "execution_count": 2,
     "metadata": {},
     "output_type": "execute_result"
    }
   ],
   "source": [
    "import kangas as kg\n",
    "kg.__version__"
   ]
  },
  {
   "cell_type": "markdown",
   "id": "8926dc3c-9494-4b26-afb5-38d6b7e9878c",
   "metadata": {},
   "source": [
    "# Pandas DataFrame"
   ]
  },
  {
   "cell_type": "markdown",
   "id": "20dee1cd-5bea-4f7e-995b-5806615dccb3",
   "metadata": {},
   "source": [
    "Download the"
   ]
  },
  {
   "cell_type": "code",
   "execution_count": null,
   "id": "4b9cb247-0d86-496b-b4a9-2b9dbda9b56f",
   "metadata": {},
   "outputs": [],
   "source": [
    "import pandas as pd\n",
    "\n"
   ]
  },
  {
   "cell_type": "markdown",
   "id": "7263a22e-950f-4cd0-a151-a114ce8cb7b8",
   "metadata": {},
   "source": [
    "# CSV Files"
   ]
  },
  {
   "cell_type": "markdown",
   "id": "a7f4163b-6e2f-412d-8f9c-4c18722ce6ee",
   "metadata": {},
   "source": [
    "From https://www.kaggle.com/code/stassl/displaying-inline-images-in-pandas-dataframe/data download:\n",
    "\n",
    "* `labels.csv` \n",
    "* test folder\n",
    "* train folder\n",
    "\n",
    "And save in this folder."
   ]
  },
  {
   "cell_type": "code",
   "execution_count": 19,
   "id": "435ff9ce-48ae-47b9-981b-6f08135fdbf0",
   "metadata": {},
   "outputs": [
    {
     "name": "stdout",
     "output_type": "stream",
     "text": [
      "Loading CSV file 'labels.csv'...\n"
     ]
    },
    {
     "name": "stderr",
     "output_type": "stream",
     "text": [
      "10223it [00:00, 38348.01it/s]\n"
     ]
    }
   ],
   "source": [
    "dg = kg.read_csv(\"labels.csv\")"
   ]
  },
  {
   "cell_type": "code",
   "execution_count": 20,
   "id": "8ffe9053-3d36-46d0-a38a-ddf5ba85b198",
   "metadata": {},
   "outputs": [
    {
     "data": {
      "text/html": [
       "<table><th colspan='1' >          row-id </th> <th colspan='1' >              id </th> <th colspan='1' >           breed </th> <tr>\n",
       "<td colspan='1' >               1 </td> <td colspan='1' > 000bec180eb18c7 </td> <td colspan='1' >     boston_bull </td> <tr>\n",
       "<td colspan='1' >               2 </td> <td colspan='1' > 001513dfcb2ffaf </td> <td colspan='1' >           dingo </td> <tr>\n",
       "<td colspan='1' >               3 </td> <td colspan='1' > 001cdf01b096e06 </td> <td colspan='1' >        pekinese </td> <tr>\n",
       "<td colspan='1' >               4 </td> <td colspan='1' > 00214f311d5d224 </td> <td colspan='1' >        bluetick </td> <tr>\n",
       "<td colspan='1' >               5 </td> <td colspan='1' > 0021f9ceb3235ef </td> <td colspan='1' > golden_retrieve </td> <tr>\n",
       "<tr><td colspan='3' style='text-align: left;'>...</td></tr><td colspan='1' >           10218 </td> <td colspan='1' > ffd25009d635cfd </td> <td colspan='1' >          borzoi </td> <tr>\n",
       "<td colspan='1' >           10219 </td> <td colspan='1' > ffd3f636f7f379c </td> <td colspan='1' >  dandie_dinmont </td> <tr>\n",
       "<td colspan='1' >           10220 </td> <td colspan='1' > ffe2ca6c940cddf </td> <td colspan='1' >        airedale </td> <tr>\n",
       "<td colspan='1' >           10221 </td> <td colspan='1' > ffe5f6d8e2bff35 </td> <td colspan='1' > miniature_pinsc </td> <tr>\n",
       "<td colspan='1' >           10222 </td> <td colspan='1' > fff43b07992508b </td> <td colspan='1' > chesapeake_bay_ </td> <tr>\n",
       "<tr>\n",
       "<td colspan='3' style=\"text-align: left;\"> [10222 rows x 2 columns] </td> <tr>\n",
       "<tr><td colspan='3' style='text-align: left;'></td></tr><tr><td colspan='3' style='text-align: left;'>*  Use DataGrid.save() to save to disk</td></tr><tr><td colspan='3' style='text-align: left;'>** Use DataGrid.show() to start user interface</td></tr></table>"
      ],
      "text/plain": [
       "<th colspan='1' >          row-id </th> <th colspan='1' >              id </th> <th colspan='1' >           breed </th> <tr>\n",
       "<td colspan='1' >               1 </td> <td colspan='1' > 000bec180eb18c7 </td> <td colspan='1' >     boston_bull </td> <tr>\n",
       "<td colspan='1' >               2 </td> <td colspan='1' > 001513dfcb2ffaf </td> <td colspan='1' >           dingo </td> <tr>\n",
       "<td colspan='1' >               3 </td> <td colspan='1' > 001cdf01b096e06 </td> <td colspan='1' >        pekinese </td> <tr>\n",
       "<td colspan='1' >               4 </td> <td colspan='1' > 00214f311d5d224 </td> <td colspan='1' >        bluetick </td> <tr>\n",
       "<td colspan='1' >               5 </td> <td colspan='1' > 0021f9ceb3235ef </td> <td colspan='1' > golden_retrieve </td> <tr>\n",
       "...\n",
       "<td colspan='1' >           10218 </td> <td colspan='1' > ffd25009d635cfd </td> <td colspan='1' >          borzoi </td> <tr>\n",
       "<td colspan='1' >           10219 </td> <td colspan='1' > ffd3f636f7f379c </td> <td colspan='1' >  dandie_dinmont </td> <tr>\n",
       "<td colspan='1' >           10220 </td> <td colspan='1' > ffe2ca6c940cddf </td> <td colspan='1' >        airedale </td> <tr>\n",
       "<td colspan='1' >           10221 </td> <td colspan='1' > ffe5f6d8e2bff35 </td> <td colspan='1' > miniature_pinsc </td> <tr>\n",
       "<td colspan='1' >           10222 </td> <td colspan='1' > fff43b07992508b </td> <td colspan='1' > chesapeake_bay_ </td> <tr>\n",
       "<tr>\n",
       "<td colspan='3' style=\"text-align: left;\"> [10222 rows x 2 columns] </td> <tr>\n",
       "\n",
       "*  Use DataGrid.save() to save to disk\n",
       "** Use DataGrid.show() to start user interface"
      ]
     },
     "execution_count": 20,
     "metadata": {},
     "output_type": "execute_result"
    }
   ],
   "source": [
    "dg"
   ]
  },
  {
   "cell_type": "code",
   "execution_count": 26,
   "id": "9a7186e3-163a-4e75-be82-b5cd27d554b8",
   "metadata": {},
   "outputs": [],
   "source": [
    "dogs = kg.DataGrid(\n",
    "    name=\"Dog Breeds\",\n",
    "    columns=[\"Breed\", \"Image\"],\n",
    ")"
   ]
  },
  {
   "cell_type": "code",
   "execution_count": 27,
   "id": "49e30f6f-0c70-459a-99b5-285187aa2858",
   "metadata": {},
   "outputs": [],
   "source": [
    "for row in dg.to_dicts():\n",
    "    dogs.append([row[\"breed\"], kg.Image(\"train/\" + row[\"id\"] + \".jpg\")])"
   ]
  },
  {
   "cell_type": "code",
   "execution_count": 28,
   "id": "717ec952-9d3c-4985-8b0e-b672d4ae800f",
   "metadata": {},
   "outputs": [
    {
     "name": "stdout",
     "output_type": "stream",
     "text": [
      "Saving data...\n"
     ]
    },
    {
     "name": "stderr",
     "output_type": "stream",
     "text": [
      "100%|█████████████████████████████████████████████████████████████████████████████████████████████████████████████████████████████████████████████████████████████████████| 10222/10222 [00:00<00:00, 74245.50it/s]"
     ]
    },
    {
     "name": "stdout",
     "output_type": "stream",
     "text": [
      "Saving datagrid to 'dog-breeds.datagrid'...\n"
     ]
    },
    {
     "name": "stderr",
     "output_type": "stream",
     "text": [
      "\n"
     ]
    },
    {
     "name": "stdout",
     "output_type": "stream",
     "text": [
      "Extending data...\n"
     ]
    },
    {
     "name": "stderr",
     "output_type": "stream",
     "text": [
      "100%|██████████████████████████████████████████████████████████████████████████████████████████████████████████████████████████████████████████████████████████████████████| 10222/10222 [00:02<00:00, 4864.74it/s]\n"
     ]
    },
    {
     "name": "stdout",
     "output_type": "stream",
     "text": [
      "Computing statistics...\n"
     ]
    },
    {
     "name": "stderr",
     "output_type": "stream",
     "text": [
      "100%|████████████████████████████████████████████████████████████████████████████████████████████████████████████████████████████████████████████████████████████████████████████████| 4/4 [00:29<00:00,  7.31s/it]\n"
     ]
    },
    {
     "data": {
      "text/html": [
       "\n",
       "        <iframe\n",
       "            width=\"100%\"\n",
       "            height=\"750px\"\n",
       "            src=\"http://127.0.1.1:4000/?datagrid=dog-breeds.datagrid\"\n",
       "            frameborder=\"0\"\n",
       "            allowfullscreen\n",
       "            \n",
       "        ></iframe>\n",
       "        "
      ],
      "text/plain": [
       "<IPython.lib.display.IFrame at 0x7f5088459b50>"
      ]
     },
     "metadata": {},
     "output_type": "display_data"
    }
   ],
   "source": [
    "dogs.show()"
   ]
  },
  {
   "cell_type": "markdown",
   "id": "ad9e04e6-71cb-427f-91e3-a7985aa36afd",
   "metadata": {},
   "source": [
    "# HuggingFace\n"
   ]
  },
  {
   "cell_type": "code",
   "execution_count": 4,
   "id": "c39d9673-f8f2-447f-9fc0-9833aefb6468",
   "metadata": {},
   "outputs": [],
   "source": [
    "from datasets import load_dataset"
   ]
  },
  {
   "cell_type": "code",
   "execution_count": 5,
   "id": "05a020cf-da0f-4f18-9903-2606f0b78fd4",
   "metadata": {},
   "outputs": [
    {
     "name": "stderr",
     "output_type": "stream",
     "text": [
      "Found cached dataset beans (/home/dblank/.cache/huggingface/datasets/beans/default/0.0.0/90c755fb6db1c0ccdad02e897a37969dbf070bed3755d4391e269ff70642d791)\n"
     ]
    }
   ],
   "source": [
    "dataset = load_dataset(\"beans\", split=\"train\")"
   ]
  },
  {
   "cell_type": "code",
   "execution_count": 6,
   "id": "984332a3-121f-43de-8d2e-8517a650aad7",
   "metadata": {},
   "outputs": [],
   "source": [
    "dg = kg.DataGrid(dataset, name=\"beans\")"
   ]
  },
  {
   "cell_type": "code",
   "execution_count": null,
   "id": "0742a2b8-60e0-497a-a349-4d5094b4bc88",
   "metadata": {},
   "outputs": [],
   "source": []
  },
  {
   "cell_type": "markdown",
   "id": "da7389bf-a6dd-49d0-b4ea-760ed1988867",
   "metadata": {},
   "source": [
    "# Archived Files"
   ]
  },
  {
   "cell_type": "code",
   "execution_count": null,
   "id": "3fffecd6-15e3-4cd1-9bb1-5004dff7c934",
   "metadata": {},
   "outputs": [],
   "source": []
  }
 ],
 "metadata": {
  "kernelspec": {
   "display_name": "Python 3 (ipykernel)",
   "language": "python",
   "name": "python3"
  },
  "language_info": {
   "codemirror_mode": {
    "name": "ipython",
    "version": 3
   },
   "file_extension": ".py",
   "mimetype": "text/x-python",
   "name": "python",
   "nbconvert_exporter": "python",
   "pygments_lexer": "ipython3",
   "version": "3.8.5"
  },
  "widgets": {
   "application/vnd.jupyter.widget-state+json": {
    "state": {},
    "version_major": 2,
    "version_minor": 0
   }
  }
 },
 "nbformat": 4,
 "nbformat_minor": 5
}
